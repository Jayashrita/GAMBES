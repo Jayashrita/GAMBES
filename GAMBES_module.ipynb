{
  "nbformat": 4,
  "nbformat_minor": 0,
  "metadata": {
    "colab": {
      "name": "GAMBES-module.ipynb",
      "provenance": [],
      "authorship_tag": "ABX9TyP7rZRW0DYHM7Z6oY6yrSjq",
      "include_colab_link": true
    },
    "kernelspec": {
      "name": "python3",
      "display_name": "Python 3"
    }
  },
  "cells": [
    {
      "cell_type": "markdown",
      "metadata": {
        "id": "view-in-github",
        "colab_type": "text"
      },
      "source": [
        "<a href=\"https://colab.research.google.com/github/Jayashrita/GAMBES/blob/master/GAMBES_module.ipynb\" target=\"_parent\"><img src=\"https://colab.research.google.com/assets/colab-badge.svg\" alt=\"Open In Colab\"/></a>"
      ]
    },
    {
      "cell_type": "code",
      "metadata": {
        "id": "nCXffPoVHVCu",
        "colab_type": "code",
        "colab": {
          "base_uri": "https://localhost:8080/",
          "height": 35
        },
        "outputId": "5d06e480-acd3-4ff6-d0dd-745b219c99d8"
      },
      "source": [
        "#@title Load libraries\n",
        "import torch\n",
        "from torch import nn\n",
        "from torch.autograd import Variable\n",
        "from torch.utils.data import DataLoader,Dataset\n",
        "\n",
        "import os\n",
        "import numpy as np\n",
        "import scipy \n",
        "import matplotlib.pyplot as plt\n",
        "import pandas as pd\n",
        "import itertools\n",
        "\n",
        "from sklearn import mixture\n",
        "#import progressbar\n",
        "\n",
        "#from google.colab import files\n",
        "\n",
        "print(\"Using Pytorch\",torch.__version__)"
      ],
      "execution_count": 1,
      "outputs": [
        {
          "output_type": "stream",
          "text": [
            "Using Pytorch 1.5.0+cu101\n"
          ],
          "name": "stdout"
        }
      ]
    },
    {
      "cell_type": "code",
      "metadata": {
        "id": "wPk84RWjH1aJ",
        "colab_type": "code",
        "colab": {
          "base_uri": "https://localhost:8080/",
          "height": 71
        },
        "cellView": "both",
        "outputId": "41fdf9a4-67fd-4ccc-b048-d0736a09bcdc"
      },
      "source": [
        "#@title **Upload data**\n",
        "upload_from = \"URL\" #@param [\"Local\", \"GoogleDrive\", \"URL\"]\n",
        "\n",
        "if upload_from == \"Local\":\n",
        "    print(\"================================\")\n",
        "    print(\"== Upload dataset ==\")\n",
        "    print(\"================================\")\n",
        "    uploadedA = files.upload()\n",
        "    for fn in uploaded.keys():\n",
        "        !mv {fn} A.dat\n",
        "\n",
        "\n",
        "elif upload_from == \"GoogleDrive\":\n",
        "    from google.colab import drive\n",
        "    drive.mount('/content/gdrive',force_remount=True)\n",
        "    \n",
        "    gdrive_path_state = \"gdrive/My Drive/\" #@param {type:\"string\"}\n",
        "    !cp \"{gdrive_path_state_a}\" A.dat\n",
        "\n",
        "\n",
        "elif upload_from == \"URL\":\n",
        "    url_state = \"\" #@param {type:\"string\"}\n",
        "    !wget -O A.dat {url_state_a} "
      ],
      "execution_count": 2,
      "outputs": [
        {
          "output_type": "stream",
          "text": [
            "--2020-06-08 08:53:31--  http://%7Burl_state_a%7D/\n",
            "Resolving {url_state_a} ({url_state_a})... failed: Name or service not known.\n",
            "wget: unable to resolve host address ‘{url_state_a}’\n"
          ],
          "name": "stdout"
        }
      ]
    },
    {
      "cell_type": "code",
      "metadata": {
        "id": "m7EZ7S1OIJgm",
        "colab_type": "code",
        "colab": {
          "base_uri": "https://localhost:8080/",
          "height": 89
        },
        "cellView": "both",
        "outputId": "d25bca60-68ff-4125-bc93-0dc9f446f961"
      },
      "source": [
        "#@title **Load files**\n",
        "n_input =  45#@param {type:\"integer\"}\n",
        "from_column =  1#@param {type:\"integer\"}\n",
        "every= 2#@param {type:\"integer\"}\n",
        "\n",
        "dist = np.loadtxt('A.dat',usecols=range(from_column,from_column+n_input))\n",
        "dist=dist[::every]\n",
        "print(\"[Imported data]\")\n",
        "print(\"- dataA.shape:\", dist.shape)"
      ],
      "execution_count": 3,
      "outputs": [
        {
          "output_type": "stream",
          "text": [
            "[Imported data]\n",
            "- dataA.shape: (0,)\n"
          ],
          "name": "stdout"
        },
        {
          "output_type": "stream",
          "text": [
            "/usr/local/lib/python3.6/dist-packages/ipykernel_launcher.py:6: UserWarning: loadtxt: Empty input file: \"A.dat\"\n",
            "  \n"
          ],
          "name": "stderr"
        }
      ]
    },
    {
      "cell_type": "code",
      "metadata": {
        "id": "xm-wDISbINoZ",
        "colab_type": "code",
        "colab": {
          "base_uri": "https://localhost:8080/",
          "height": 244
        },
        "outputId": "a386ca0c-b0e3-4442-c227-cda2da9943ba"
      },
      "source": [
        "#@title **Fitting Gaussians**\n",
        "Minimum_number_of_Gaussians =  1#@param {type:\"integer\"}\n",
        "Maximum_number_of_Gaussians =  10#@param {type:\"integer\"}\n",
        "Number_of_trials= 5#@param {type:\"integer\"}\n",
        "\n",
        "markers=[\"o\",\"v\",\"^\",\"+\",\"x\",\"d\",\"*\"]\n",
        "\n",
        "n_trials=Number_of_trials\n",
        "nc_l = Minimum_number_of_Gaussians\n",
        "nc_u = Maximum_number_of_Gaussians\n",
        "\n",
        "X=dist\n",
        "if(n_input==1):\n",
        "   X=X.reshape(-1, 1)\n",
        "for num_trials in range(n_trials):\n",
        "    lowest_bic = np.infty\n",
        "    bic = []\n",
        "    ndat= []\n",
        "    n_components_range = range(nc_l,nc_u)\n",
        "#cv_types = ['spherical', 'tied', 'diag', 'full']\n",
        "    cv_types = ['full']\n",
        "    for cv_type in cv_types:\n",
        "        for n_components in n_components_range:\n",
        "            # Fit a Gaussian mixture with EM\n",
        "            gmm = mixture.GaussianMixture(n_components=n_components,covariance_type=cv_type,max_iter=2000)\n",
        "            gmm.fit(X)\n",
        "            bic.append(gmm.bic(X))\n",
        "            ndat.append(n_components)\n",
        "            if bic[-1] < lowest_bic:\n",
        "                lowest_bic = bic[-1]\n",
        "                best_gmm = gmm\n",
        "\n",
        "    bic = np.array(bic)\n",
        "    color_iter = itertools.cycle(['navy', 'turquoise', 'cornflowerblue','C0','C1','C2','C3','C4','C5','C6','C7','C8','C9'])\n",
        "    clf = best_gmm\n",
        "    bars = []\n",
        "\n",
        "    plt.figure(num_files)\n",
        "    plt.scatter(ndat,bic,label=files[num_files]+\" \"+str(num_trials)+\" \"+str(len(clf.weights_)),s=40,marker=markers[num_trials])\n",
        "    plt.plot(ndat,bic,alpha=0.5,linewidth=2.5)\n",
        "plt.legend()"
      ],
      "execution_count": 5,
      "outputs": [
        {
          "output_type": "error",
          "ename": "NameError",
          "evalue": "ignored",
          "traceback": [
            "\u001b[0;31m---------------------------------------------------------------------------\u001b[0m",
            "\u001b[0;31mNameError\u001b[0m                                 Traceback (most recent call last)",
            "\u001b[0;32m<ipython-input-5-332641932d97>\u001b[0m in \u001b[0;36m<module>\u001b[0;34m()\u001b[0m\n\u001b[1;32m     23\u001b[0m         \u001b[0;32mfor\u001b[0m \u001b[0mn_components\u001b[0m \u001b[0;32min\u001b[0m \u001b[0mn_components_range\u001b[0m\u001b[0;34m:\u001b[0m\u001b[0;34m\u001b[0m\u001b[0;34m\u001b[0m\u001b[0m\n\u001b[1;32m     24\u001b[0m             \u001b[0;31m# Fit a Gaussian mixture with EM\u001b[0m\u001b[0;34m\u001b[0m\u001b[0;34m\u001b[0m\u001b[0;34m\u001b[0m\u001b[0m\n\u001b[0;32m---> 25\u001b[0;31m             \u001b[0mgmm\u001b[0m \u001b[0;34m=\u001b[0m \u001b[0mmixture\u001b[0m\u001b[0;34m.\u001b[0m\u001b[0mGaussianMixture\u001b[0m\u001b[0;34m(\u001b[0m\u001b[0mn_components\u001b[0m\u001b[0;34m=\u001b[0m\u001b[0mn_components\u001b[0m\u001b[0;34m,\u001b[0m\u001b[0mcovariance_type\u001b[0m\u001b[0;34m=\u001b[0m\u001b[0mcv_type\u001b[0m\u001b[0;34m,\u001b[0m\u001b[0mmax_iter\u001b[0m\u001b[0;34m=\u001b[0m\u001b[0;36m2000\u001b[0m\u001b[0;34m)\u001b[0m\u001b[0;34m\u001b[0m\u001b[0;34m\u001b[0m\u001b[0m\n\u001b[0m\u001b[1;32m     26\u001b[0m             \u001b[0mgmm\u001b[0m\u001b[0;34m.\u001b[0m\u001b[0mfit\u001b[0m\u001b[0;34m(\u001b[0m\u001b[0mX\u001b[0m\u001b[0;34m)\u001b[0m\u001b[0;34m\u001b[0m\u001b[0;34m\u001b[0m\u001b[0m\n\u001b[1;32m     27\u001b[0m             \u001b[0mbic\u001b[0m\u001b[0;34m.\u001b[0m\u001b[0mappend\u001b[0m\u001b[0;34m(\u001b[0m\u001b[0mgmm\u001b[0m\u001b[0;34m.\u001b[0m\u001b[0mbic\u001b[0m\u001b[0;34m(\u001b[0m\u001b[0mX\u001b[0m\u001b[0;34m)\u001b[0m\u001b[0;34m)\u001b[0m\u001b[0;34m\u001b[0m\u001b[0;34m\u001b[0m\u001b[0m\n",
            "\u001b[0;31mNameError\u001b[0m: name 'mixture' is not defined"
          ]
        }
      ]
    },
    {
      "cell_type": "code",
      "metadata": {
        "id": "5yCEOKZ1ITAh",
        "colab_type": "code",
        "colab": {
          "base_uri": "https://localhost:8080/",
          "height": 244
        },
        "outputId": "4c63906d-94b3-480b-9a8a-7b39b1942057"
      },
      "source": [
        "#@title **Plumed GAMBES Input**\n",
        "Number_of_Gaussians =  5#@param {type:\"integer\"}\n",
        "\n",
        "nc=Number_of_Gaussians\n",
        "d=n_input\n",
        "\n",
        "X=np.asarray(dist)\n",
        "\n",
        "\n",
        "gmm = mixture.GaussianMixture(n_components=nc, covariance_type='full',max_iter=2000)\n",
        "gmm.fit(X)\n",
        "mu=gmm.means_\n",
        "cov=gmm.covariances_\n",
        "weights=gmm.weights_\n",
        "\n",
        "\n",
        "print(\"#! FIELDS ID WEIGHTS\", end=\" \")\n",
        "for i in range(d):\n",
        "    print(\" mu_%d\"%i, end=\" \")\n",
        "for j in range(d):\n",
        "    for k in range(d):\n",
        "        print(\" cov_%d_%d\"%(j,k), end=\" \")\n",
        "print()\n",
        "for i in range(len(weights)):\n",
        "    print(\"%d %0.6f\"%(i,weights[i]), end=\" \")\n",
        "    for m in mu[i]:\n",
        "        print(\" %0.6f\"%m, end=\" \")\n",
        "    for j in range(d):\n",
        "        for k in range(d):\n",
        "            print(\" %0.6f\"%cov[i][j,k], end=\" \")\n",
        "\n",
        "    print()"
      ],
      "execution_count": 7,
      "outputs": [
        {
          "output_type": "error",
          "ename": "NameError",
          "evalue": "ignored",
          "traceback": [
            "\u001b[0;31m---------------------------------------------------------------------------\u001b[0m",
            "\u001b[0;31mNameError\u001b[0m                                 Traceback (most recent call last)",
            "\u001b[0;32m<ipython-input-7-205aabb0812d>\u001b[0m in \u001b[0;36m<module>\u001b[0;34m()\u001b[0m\n\u001b[1;32m      8\u001b[0m \u001b[0;34m\u001b[0m\u001b[0m\n\u001b[1;32m      9\u001b[0m \u001b[0;34m\u001b[0m\u001b[0m\n\u001b[0;32m---> 10\u001b[0;31m \u001b[0mgmm\u001b[0m \u001b[0;34m=\u001b[0m \u001b[0mmixture\u001b[0m\u001b[0;34m.\u001b[0m\u001b[0mGaussianMixture\u001b[0m\u001b[0;34m(\u001b[0m\u001b[0mn_components\u001b[0m\u001b[0;34m=\u001b[0m\u001b[0mnc\u001b[0m\u001b[0;34m,\u001b[0m \u001b[0mcovariance_type\u001b[0m\u001b[0;34m=\u001b[0m\u001b[0;34m'full'\u001b[0m\u001b[0;34m,\u001b[0m\u001b[0mmax_iter\u001b[0m\u001b[0;34m=\u001b[0m\u001b[0;36m2000\u001b[0m\u001b[0;34m)\u001b[0m\u001b[0;34m\u001b[0m\u001b[0;34m\u001b[0m\u001b[0m\n\u001b[0m\u001b[1;32m     11\u001b[0m \u001b[0mgmm\u001b[0m\u001b[0;34m.\u001b[0m\u001b[0mfit\u001b[0m\u001b[0;34m(\u001b[0m\u001b[0mX\u001b[0m\u001b[0;34m)\u001b[0m\u001b[0;34m\u001b[0m\u001b[0;34m\u001b[0m\u001b[0m\n\u001b[1;32m     12\u001b[0m \u001b[0mmu\u001b[0m\u001b[0;34m=\u001b[0m\u001b[0mgmm\u001b[0m\u001b[0;34m.\u001b[0m\u001b[0mmeans_\u001b[0m\u001b[0;34m\u001b[0m\u001b[0;34m\u001b[0m\u001b[0m\n",
            "\u001b[0;31mNameError\u001b[0m: name 'mixture' is not defined"
          ]
        }
      ]
    },
    {
      "cell_type": "code",
      "metadata": {
        "id": "vYwXssvgKFFp",
        "colab_type": "code",
        "colab": {}
      },
      "source": [
        ""
      ],
      "execution_count": 0,
      "outputs": []
    }
  ]
}